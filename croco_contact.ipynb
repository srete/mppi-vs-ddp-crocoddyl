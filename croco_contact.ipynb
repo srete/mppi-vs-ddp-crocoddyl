{
 "cells": [
  {
   "cell_type": "code",
   "execution_count": 1,
   "id": "20e807bc",
   "metadata": {},
   "outputs": [],
   "source": [
    "import crocoddyl as croc"
   ]
  },
  {
   "cell_type": "code",
   "execution_count": 2,
   "id": "cdf7792e",
   "metadata": {},
   "outputs": [
    {
     "name": "stdout",
     "output_type": "stream",
     "text": [
      "\u001b[31mDocstring:\u001b[39m     \n",
      "Rigid 6D contact model.\n",
      "\n",
      "It defines a rigid 6D contact models based on acceleration-based holonomic constraints.\n",
      "The calc and calcDiff functions compute the contact Jacobian and drift (holonomic constraint) or\n",
      "the derivatives of the holonomic constraint, respectively.\n",
      "\u001b[31mInit docstring:\u001b[39m\n",
      "__init__( (object)self, (StateMultibody)state, (int)id, (pinocchio.pinocchio_pywrap_default.SE3)pref, (pinocchio.pinocchio_pywrap_default.ReferenceFrame)type, (int)nu [, (numpy.ndarray)gains]) -> None :\n",
      "    Initialize the contact model.\n",
      "    \n",
      "    :param state: state of the multibody system\n",
      "    :param id: reference frame id of the contact\n",
      "    :param pref: contact placement used for the Baumgarte stabilization\n",
      "    :param type: type of contact\n",
      "    :param nu: dimension of control vector\n",
      "    :param gains: gains of the contact model (default np.matrix([0.,0.]))\n",
      "\n",
      "    C++ signature :\n",
      "        void __init__(_object*,std::shared_ptr<crocoddyl::StateMultibodyTpl<double> >,unsigned long,pinocchio::SE3Tpl<double, 0>,pinocchio::ReferenceFrame,unsigned long [,Eigen::Matrix<double, 2, 1, 0, 2, 1>])\n",
      "\n",
      "__init__( (object)self, (StateMultibody)state, (int)id, (pinocchio.pinocchio_pywrap_default.SE3)pref, (pinocchio.pinocchio_pywrap_default.ReferenceFrame)type [, (numpy.ndarray)gains]) -> None :\n",
      "    Initialize the contact model.\n",
      "    \n",
      "    :param state: state of the multibody system\n",
      "    :param id: reference frame id of the contact\n",
      "    :param pref: contact placement used for the Baumgarte stabilization\n",
      "    :param type: type of contact\n",
      "    :param gains: gains of the contact model (default np.matrix([0.,0.]))\n",
      "\n",
      "    C++ signature :\n",
      "        void __init__(_object*,std::shared_ptr<crocoddyl::StateMultibodyTpl<double> >,unsigned long,pinocchio::SE3Tpl<double, 0>,pinocchio::ReferenceFrame [,Eigen::Matrix<double, 2, 1, 0, 2, 1>])\n",
      "\u001b[31mFile:\u001b[39m           ~/Code/ddp-vs-mppi/.venv/lib/python3.12/site-packages/cmeel.prefix/lib/python3.12/site-packages/crocoddyl/libcrocoddyl_pywrap.cpython-312-x86_64-linux-gnu.so\n",
      "\u001b[31mType:\u001b[39m           class\n",
      "\u001b[31mSubclasses:\u001b[39m     "
     ]
    }
   ],
   "source": [
    "croc.ContactModel6D?"
   ]
  },
  {
   "cell_type": "code",
   "execution_count": 5,
   "id": "c1ebbb81",
   "metadata": {},
   "outputs": [
    {
     "name": "stdout",
     "output_type": "stream",
     "text": [
      "\u001b[31mDocstring:\u001b[39m      <no docstring>\n",
      "\u001b[31mInit docstring:\u001b[39m\n",
      "__init__( (object)self, (StateMultibody)state [, (int)nu]) -> None :\n",
      "    Initialize the multiple contact model.\n",
      "    \n",
      "    :param state: state of the multibody system\n",
      "    :param nu: dimension of control vector\n",
      "\n",
      "    C++ signature :\n",
      "        void __init__(_object*,std::shared_ptr<crocoddyl::StateMultibodyTpl<double> > [,unsigned long])\n",
      "\u001b[31mFile:\u001b[39m           ~/Code/ddp-vs-mppi/.venv/lib/python3.12/site-packages/cmeel.prefix/lib/python3.12/site-packages/crocoddyl/libcrocoddyl_pywrap.cpython-312-x86_64-linux-gnu.so\n",
      "\u001b[31mType:\u001b[39m           class\n",
      "\u001b[31mSubclasses:\u001b[39m     "
     ]
    }
   ],
   "source": [
    "croc.ContactModelMultiple?"
   ]
  }
 ],
 "metadata": {
  "kernelspec": {
   "display_name": "ddp-vs-mppi",
   "language": "python",
   "name": "python3"
  },
  "language_info": {
   "codemirror_mode": {
    "name": "ipython",
    "version": 3
   },
   "file_extension": ".py",
   "mimetype": "text/x-python",
   "name": "python",
   "nbconvert_exporter": "python",
   "pygments_lexer": "ipython3",
   "version": "3.12.3"
  }
 },
 "nbformat": 4,
 "nbformat_minor": 5
}
