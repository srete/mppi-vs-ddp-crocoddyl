{
 "cells": [
  {
   "cell_type": "code",
   "execution_count": 1,
   "id": "1b95322f",
   "metadata": {},
   "outputs": [],
   "source": [
    "import crocoddyl\n",
    "import numpy as np\n"
   ]
  },
  {
   "cell_type": "code",
   "execution_count": 3,
   "id": "23c9fca7",
   "metadata": {},
   "outputs": [
    {
     "name": "stdout",
     "output_type": "stream",
     "text": [
      "[[4 5]\n",
      " [6 7]\n",
      " [2 3]]\n"
     ]
    }
   ],
   "source": [
    "u_curr = np.array([[2, 3], [4, 5], [6, 7]])\n",
    "\n",
    "u_curr = np.roll(u_curr, -1, axis=0)\n",
    "print(u_curr)  # Output: [4 5 6 3]"
   ]
  },
  {
   "cell_type": "code",
   "execution_count": 2,
   "id": "a609dc53",
   "metadata": {},
   "outputs": [],
   "source": [
    "# Defining model and cost weights\n",
    "model = crocoddyl.ActionModelUnicycle()\n",
    "data = model.createData()\n",
    "\n",
    "# Cost function is defined here -> https://github.com/loco-3d/crocoddyl/blob/3cd866def6cbeb8d35a69cbbe5accc0ec5d0ca20/include/crocoddyl/core/actions/unicycle.hxx#L20\n",
    "model.costWeights = np.array([\n",
    "    1,   # state weight\n",
    "    1,   # control weight\n",
    "])\n",
    "\n",
    "# Terminal state cost\n",
    "model_term = crocoddyl.ActionModelUnicycle()\n",
    "model_term.costWeights = np.array([100, 0])\n",
    "\n",
    "# Defining problem\n",
    "T  = 20\n",
    "x0 = np.array([-1,-1,1])"
   ]
  },
  {
   "cell_type": "code",
   "execution_count": null,
   "id": "edcdc2bd",
   "metadata": {},
   "outputs": [
    {
     "name": "stdout",
     "output_type": "stream",
     "text": [
      "DDP attributes:\n",
      "K: <crocoddyl.libcrocoddyl_pywrap.StdVec_RowMatrixX object at 0x7e0205a08e40>\n",
      "Qu: <crocoddyl.libcrocoddyl_pywrap.StdVec_VectorX object at 0x7e0205a08e40>\n",
      "Quu: <pinocchio.pinocchio_pywrap_default.StdVec_MatrixXs object at 0x7e0205a09690>\n",
      "Qx: <crocoddyl.libcrocoddyl_pywrap.StdVec_VectorX object at 0x7e0205a09690>\n",
      "Qxu: <pinocchio.pinocchio_pywrap_default.StdVec_MatrixXs object at 0x7e0205a08e40>\n",
      "Qxx: <pinocchio.pinocchio_pywrap_default.StdVec_MatrixXs object at 0x7e0205a08e40>\n",
      "Vx: <crocoddyl.libcrocoddyl_pywrap.StdVec_VectorX object at 0x7e0205a08e40>\n",
      "Vxx: <pinocchio.pinocchio_pywrap_default.StdVec_MatrixXs object at 0x7e0205a09690>\n",
      "alphas: <pinocchio.pinocchio_pywrap_default.StdVec_Scalar object at 0x7e0205a09690>\n",
      "backwardPass: <bound method backwardPass of <crocoddyl.libcrocoddyl_pywrap.SolverDDP object at 0x7e02054da700>>\n",
      "calcDiff: <bound method calcDiff of <crocoddyl.libcrocoddyl_pywrap.SolverDDP object at 0x7e02054da700>>\n",
      "computeActionValueFunction: <bound method computeActionValueFunction of <crocoddyl.libcrocoddyl_pywrap.SolverDDP object at 0x7e02054da700>>\n",
      "computeDirection: <bound method computeDirection of <crocoddyl.libcrocoddyl_pywrap.SolverDDP object at 0x7e02054da700>>\n",
      "computeDynamicFeasibility: <bound method computeDynamicFeasibility of <crocoddyl.libcrocoddyl_pywrap.SolverDDP object at 0x7e02054da700>>\n",
      "computeEqualityFeasibility: <bound method computeEqualityFeasibility of <crocoddyl.libcrocoddyl_pywrap.SolverDDP object at 0x7e02054da700>>\n",
      "computeInequalityFeasibility: <bound method computeInequalityFeasibility of <crocoddyl.libcrocoddyl_pywrap.SolverDDP object at 0x7e02054da700>>\n",
      "computeValueFunction: <bound method computeValueFunction of <crocoddyl.libcrocoddyl_pywrap.SolverDDP object at 0x7e02054da700>>\n",
      "copy: <bound method copy of <crocoddyl.libcrocoddyl_pywrap.SolverDDP object at 0x7e02054da700>>\n",
      "cost: 0.0\n",
      "d: [6.96407597e+252 1.97717802e+161]\n",
      "dPhi: 0.0\n",
      "dPhiexp: 0.0\n",
      "dV: 0.0\n",
      "dVexp: 0.0\n",
      "dfeas: 0.0\n",
      "dreg: 0.0\n",
      "expectedImprovement: <bound method expectedImprovement of <crocoddyl.libcrocoddyl_pywrap.SolverDDP object at 0x7e02054da700>>\n",
      "feas: 0.0\n",
      "feasNorm: LInf\n",
      "ffeas: 0.0\n",
      "ffeas_try: 0.0\n",
      "forwardPass: <bound method forwardPass of <crocoddyl.libcrocoddyl_pywrap.SolverDDP object at 0x7e02054da700>>\n",
      "fs: <crocoddyl.libcrocoddyl_pywrap.StdVec_VectorX object at 0x7e0205a09690>\n",
      "getCallbacks: <bound method getCallbacks of <crocoddyl.libcrocoddyl_pywrap.SolverDDP object at 0x7e02054da700>>\n",
      "gfeas: 0.0\n",
      "gfeas_try: 0.0\n",
      "hfeas: 0.0\n",
      "hfeas_try: 0.0\n",
      "isFeasible: False\n",
      "iter: 0\n",
      "k: <crocoddyl.libcrocoddyl_pywrap.StdVec_VectorX object at 0x7e0205a08e40>\n",
      "merit: 0.0\n",
      "preg: 0.0\n",
      "problem: ShootingProblem (T=20, nx=3, ndx=3) \n",
      "  Models:\n",
      "    0: ActionModelUnicycle {dt=0.1}\n",
      "    1: ActionModelUnicycle {dt=0.1}\n",
      "    2: ActionModelUnicycle {dt=0.1}\n",
      "    3: ActionModelUnicycle {dt=0.1}\n",
      "    4: ActionModelUnicycle {dt=0.1}\n",
      "    5: ActionModelUnicycle {dt=0.1}\n",
      "    6: ActionModelUnicycle {dt=0.1}\n",
      "    7: ActionModelUnicycle {dt=0.1}\n",
      "    8: ActionModelUnicycle {dt=0.1}\n",
      "    9: ActionModelUnicycle {dt=0.1}\n",
      "    10: ActionModelUnicycle {dt=0.1}\n",
      "    11: ActionModelUnicycle {dt=0.1}\n",
      "    12: ActionModelUnicycle {dt=0.1}\n",
      "    13: ActionModelUnicycle {dt=0.1}\n",
      "    14: ActionModelUnicycle {dt=0.1}\n",
      "    15: ActionModelUnicycle {dt=0.1}\n",
      "    16: ActionModelUnicycle {dt=0.1}\n",
      "    17: ActionModelUnicycle {dt=0.1}\n",
      "    18: ActionModelUnicycle {dt=0.1}\n",
      "    19: ActionModelUnicycle {dt=0.1}\n",
      "    20: ActionModelUnicycle {dt=0.1}\n",
      "regFactor: 10.0\n",
      "regMax: 1000000000.0\n",
      "regMin: 1e-09\n",
      "reg_decFactor: 10.0\n",
      "reg_incFactor: 10.0\n",
      "reg_max: 1000000000.0\n",
      "reg_min: 1e-09\n",
      "setCallbacks: <bound method setCallbacks of <crocoddyl.libcrocoddyl_pywrap.SolverDDP object at 0x7e02054da700>>\n",
      "setCandidate: <bound method setCandidate of <crocoddyl.libcrocoddyl_pywrap.SolverDDP object at 0x7e02054da700>>\n",
      "solve: <bound method solve of <crocoddyl.libcrocoddyl_pywrap.SolverDDP object at 0x7e02054da700>>\n",
      "stepLength: 1.0\n",
      "stop: 0.0\n",
      "stoppingCriteria: <bound method stoppingCriteria of <crocoddyl.libcrocoddyl_pywrap.SolverDDP object at 0x7e02054da700>>\n",
      "th_acceptStep: 0.1\n",
      "th_gapTol: 1e-16\n",
      "th_gaptol: 1e-16\n",
      "th_grad: 1e-12\n",
      "th_stepDec: 0.5\n",
      "th_stepInc: 0.01\n",
      "th_stop: 1e-09\n",
      "tryStep: <bound method tryStep of <crocoddyl.libcrocoddyl_pywrap.SolverDDP object at 0x7e02054da700>>\n",
      "u_reg: 0.0\n",
      "us: <crocoddyl.libcrocoddyl_pywrap.StdVec_VectorX object at 0x7e0205a08e40>\n",
      "x_reg: 0.0\n",
      "xs: <crocoddyl.libcrocoddyl_pywrap.StdVec_VectorX object at 0x7e0205a09690>\n"
     ]
    },
    {
     "name": "stderr",
     "output_type": "stream",
     "text": [
      "/tmp/ipykernel_580953/4042266822.py:9: UserWarning: Deprecated. Use reg_incfactor or reg_decfactor\n",
      "  print(f\"{attr}: {getattr(ddp, attr)}\")\n",
      "/tmp/ipykernel_580953/4042266822.py:9: UserWarning: Deprecated. Use reg_max\n",
      "  print(f\"{attr}: {getattr(ddp, attr)}\")\n",
      "/tmp/ipykernel_580953/4042266822.py:9: UserWarning: Deprecated. Use reg_min\n",
      "  print(f\"{attr}: {getattr(ddp, attr)}\")\n",
      "/tmp/ipykernel_580953/4042266822.py:9: UserWarning: Deprecated. Use th_gapTol\n",
      "  print(f\"{attr}: {getattr(ddp, attr)}\")\n",
      "/tmp/ipykernel_580953/4042266822.py:9: UserWarning: Deprecated. Use preg\n",
      "  print(f\"{attr}: {getattr(ddp, attr)}\")\n"
     ]
    }
   ],
   "source": [
    "problem = crocoddyl.ShootingProblem(x0, [ model ] * T, model_term)\n",
    "\n",
    "ddp = crocoddyl.SolverDDP(problem)\n",
    "\n",
    "# Print all crocoddyl.SolverDDP attributes\n",
    "print(\"DDP attributes:\")\n",
    "for attr in dir(ddp):\n",
    "    if not attr.startswith('_'):\n",
    "        print(f\"{attr}: {getattr(ddp, attr)}\")\n",
    "\n",
    "\n",
    "ddp.setCallbacks([crocoddyl.CallbackLogger(), crocoddyl.CallbackVerbose()])\n",
    "#ddp.solve(init_us=list(u_nom), init_xs=list(x_nom), maxiter=30)\n",
    "ddp.solve()\n",
    "# print(f\"Final DDP cost: {ddp.cost}\")"
   ]
  },
  {
   "cell_type": "code",
   "execution_count": null,
   "id": "c4a7a6d3",
   "metadata": {},
   "outputs": [
    {
     "data": {
      "text/plain": [
       "crocoddyl.libcrocoddyl_pywrap.SolverDDP"
      ]
     },
     "execution_count": 5,
     "metadata": {},
     "output_type": "execute_result"
    }
   ],
   "source": [
    "crocoddyl.SolverDDP()"
   ]
  }
 ],
 "metadata": {
  "kernelspec": {
   "display_name": "ddp-vs-mppi",
   "language": "python",
   "name": "python3"
  },
  "language_info": {
   "codemirror_mode": {
    "name": "ipython",
    "version": 3
   },
   "file_extension": ".py",
   "mimetype": "text/x-python",
   "name": "python",
   "nbconvert_exporter": "python",
   "pygments_lexer": "ipython3",
   "version": "3.12.3"
  }
 },
 "nbformat": 4,
 "nbformat_minor": 5
}
