{
 "cells": [
  {
   "cell_type": "code",
   "execution_count": null,
   "id": "85c45745",
   "metadata": {},
   "outputs": [],
   "source": [
    "from casadi import *\n",
    "\n",
    "\n",
    "# Symbols/expressions\n",
    "x = MX.sym('x')\n",
    "y = MX.sym('y')\n",
    "z = MX.sym('z')\n",
    "\n",
    "\n",
    "f = x**2+100*z**2\n",
    "g = z+(1-x)**2-y\n",
    "\n",
    "nlp = {}                 # NLP declaration\n",
    "nlp['x']= vertcat(x,y,z) # decision vars\n",
    "nlp['f'] = f             # objective\n",
    "nlp['g'] = g             # constraints\n"
   ]
  },
  {
   "cell_type": "code",
   "execution_count": 10,
   "id": "1f6f7dc1",
   "metadata": {},
   "outputs": [],
   "source": [
    "# Create scalar/matrix symbols\n",
    "x = MX.sym('x',5)\n",
    "\n",
    "# Compose into expressions\n",
    "y = norm_2(x)\n",
    "\n",
    "# Sensitivity of expression -> new expression\n",
    "grad_y = gradient(y,x)\n",
    "\n",
    "# Create a Function to evaluate expression\n",
    "f = Function('f',[x],[grad_y])\n",
    "\n",
    "# Evaluate numerically\n",
    "grad_y_num = f([1,2,3,4,5])"
   ]
  },
  {
   "cell_type": "code",
   "execution_count": null,
   "id": "766dda65",
   "metadata": {},
   "outputs": [
    {
     "data": {
      "text/plain": [
       "Function(f:(i0[5])->(o0[5]) MXFunction)"
      ]
     },
     "execution_count": 16,
     "metadata": {},
     "output_type": "execute_result"
    }
   ],
   "source": []
  }
 ],
 "metadata": {
  "kernelspec": {
   "display_name": "ddp-vs-mppi",
   "language": "python",
   "name": "python3"
  },
  "language_info": {
   "codemirror_mode": {
    "name": "ipython",
    "version": 3
   },
   "file_extension": ".py",
   "mimetype": "text/x-python",
   "name": "python",
   "nbconvert_exporter": "python",
   "pygments_lexer": "ipython3",
   "version": "3.12.3"
  }
 },
 "nbformat": 4,
 "nbformat_minor": 5
}
