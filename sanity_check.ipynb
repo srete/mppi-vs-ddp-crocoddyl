{
 "cells": [
  {
   "cell_type": "code",
   "execution_count": 1,
   "id": "e76ef71a",
   "metadata": {},
   "outputs": [],
   "source": [
    "import crocoddyl\n",
    "import numpy as np\n"
   ]
  },
  {
   "cell_type": "code",
   "execution_count": 2,
   "id": "4a709eb6",
   "metadata": {},
   "outputs": [],
   "source": [
    "# Defining model and cost weights\n",
    "model = crocoddyl.ActionModelUnicycle()\n",
    "data = model.createData()\n",
    "\n",
    "# Cost function is defined here -> https://github.com/loco-3d/crocoddyl/blob/3cd866def6cbeb8d35a69cbbe5accc0ec5d0ca20/include/crocoddyl/core/actions/unicycle.hxx#L20\n",
    "model.costWeights = np.array([\n",
    "    1,   # state weight\n",
    "    1,   # control weight\n",
    "])\n",
    "\n",
    "# Defining problem\n",
    "T  = 20\n",
    "x0 = np.array([-1,-1,1])\n",
    "\n",
    "problem = crocoddyl.ShootingProblem(x0, [ model ] * T, model)\n",
    "# problem.terminalModel = model_term\n",
    "\n",
    "# Applying initial control sequence\n",
    "us = [ np.array([1., .1]).T for _ in range(T)]\n",
    "xs = problem.rollout(us)"
   ]
  },
  {
   "cell_type": "code",
   "execution_count": 3,
   "id": "64733440",
   "metadata": {},
   "outputs": [
    {
     "data": {
      "text/plain": [
       "0.0"
      ]
     },
     "execution_count": 3,
     "metadata": {},
     "output_type": "execute_result"
    }
   ],
   "source": [
    "data.cost"
   ]
  },
  {
   "cell_type": "code",
   "execution_count": 4,
   "id": "c18bdb38",
   "metadata": {},
   "outputs": [
    {
     "data": {
      "text/plain": [
       "(np.float64(-3.0), np.float64(1.0), np.float64(-2.0), np.float64(10.0))"
      ]
     },
     "execution_count": 4,
     "metadata": {},
     "output_type": "execute_result"
    },
    {
     "data": {
      "text/plain": [
       "<Figure size 640x480 with 0 Axes>"
      ]
     },
     "metadata": {},
     "output_type": "display_data"
    },
    {
     "data": {
      "image/png": "[encoded data removed]",
      "text/plain": [
       "<Figure size 640x640 with 1 Axes>"
      ]
     },
     "metadata": {},
     "output_type": "display_data"
    }
   ],
   "source": [
    "import matplotlib.pylab as plt\n",
    "from tp7.unicycle_utils import plotUnicycleSolution\n",
    "plt.figure()\n",
    "plotUnicycleSolution(xs)\n",
    "plt.axis([-3,1.,-2.,10])"
   ]
  },
  {
   "cell_type": "code",
   "execution_count": 9,
   "id": "80a48c64",
   "metadata": {},
   "outputs": [],
   "source": [
    "# Defining model and cost weights\n",
    "model = crocoddyl.ActionModelUnicycle()\n",
    "data = model.createData()\n",
    "\n",
    "T  = 20\n",
    "x0 = np.array([-1,-1,1])\n",
    "us = [ np.array([1., .1]).T for _ in range(T)]\n",
    "        \n",
    "X_trajectory = [x0]\n",
    "current_x = x0\n",
    "total_cost = 0.0\n",
    "\n",
    "for t in range(T):\n",
    "    u_t = us[t]\n",
    "    model.calc(data, current_x, u_t)\n",
    "    next_x = data.xnext\n",
    "    cost_t = data.cost \n",
    "    X_trajectory.append(next_x.copy())\n",
    "    # total_cost += cost_t\n",
    "    current_x = next_x"
   ]
  },
  {
   "cell_type": "code",
   "execution_count": 10,
   "id": "4afbc48a",
   "metadata": {},
   "outputs": [
    {
     "data": {
      "text/plain": [
       "[array([-1., -1.,  1.]),\n",
       " array([-0.94596977, -0.9158529 ,  1.01      ]),\n",
       " array([-0.8927837 , -0.83116972,  1.02      ]),\n",
       " array([-0.8404471 , -0.74595891,  1.03      ]),\n",
       " array([-0.78896522, -0.66022902,  1.04      ]),\n",
       " array([-0.73834319, -0.57398859,  1.05      ]),\n",
       " array([-0.68858609, -0.48724627,  1.06      ]),\n",
       " array([-0.63969888, -0.40001072,  1.07      ]),\n",
       " array([-0.59168646, -0.31229067,  1.08      ]),\n",
       " array([-0.54455362, -0.22409489,  1.09      ]),\n",
       " array([-0.49830508, -0.1354322 ,  1.1       ]),\n",
       " array([-0.45294547, -0.04631146,  1.11      ]),\n",
       " array([-0.40847932,  0.0432584 ,  1.12      ]),\n",
       " array([-0.36491107,  0.13326845,  1.13      ]),\n",
       " array([-0.32224509,  0.22370967,  1.14      ]),\n",
       " array([-0.28048564,  0.31457302,  1.15      ]),\n",
       " array([-0.2396369 ,  0.40584941,  1.16      ]),\n",
       " array([-0.19970295,  0.49752972,  1.17      ]),\n",
       " array([-0.16068778,  0.58960478,  1.18      ]),\n",
       " array([-0.1225953 ,  0.68206538,  1.19      ]),\n",
       " array([-0.08542931,  0.77490228,  1.2       ])]"
      ]
     },
     "execution_count": 10,
     "metadata": {},
     "output_type": "execute_result"
    }
   ],
   "source": [
    "xs.tolist()"
   ]
  },
  {
   "cell_type": "code",
   "execution_count": 11,
   "id": "a5c3b634",
   "metadata": {},
   "outputs": [
    {
     "data": {
      "text/plain": [
       "[array([-1, -1,  1]),\n",
       " array([-0.94596977, -0.9158529 ,  1.01      ]),\n",
       " array([-0.8927837 , -0.83116972,  1.02      ]),\n",
       " array([-0.8404471 , -0.74595891,  1.03      ]),\n",
       " array([-0.78896522, -0.66022902,  1.04      ]),\n",
       " array([-0.73834319, -0.57398859,  1.05      ]),\n",
       " array([-0.68858609, -0.48724627,  1.06      ]),\n",
       " array([-0.63969888, -0.40001072,  1.07      ]),\n",
       " array([-0.59168646, -0.31229067,  1.08      ]),\n",
       " array([-0.54455362, -0.22409489,  1.09      ]),\n",
       " array([-0.49830508, -0.1354322 ,  1.1       ]),\n",
       " array([-0.45294547, -0.04631146,  1.11      ]),\n",
       " array([-0.40847932,  0.0432584 ,  1.12      ]),\n",
       " array([-0.36491107,  0.13326845,  1.13      ]),\n",
       " array([-0.32224509,  0.22370967,  1.14      ]),\n",
       " array([-0.28048564,  0.31457302,  1.15      ]),\n",
       " array([-0.2396369 ,  0.40584941,  1.16      ]),\n",
       " array([-0.19970295,  0.49752972,  1.17      ]),\n",
       " array([-0.16068778,  0.58960478,  1.18      ]),\n",
       " array([-0.1225953 ,  0.68206538,  1.19      ]),\n",
       " array([-0.08542931,  0.77490228,  1.2       ])]"
      ]
     },
     "execution_count": 11,
     "metadata": {},
     "output_type": "execute_result"
    }
   ],
   "source": [
    "X_trajectory"
   ]
  },
  {
   "cell_type": "code",
   "execution_count": 8,
   "id": "643eb36d",
   "metadata": {},
   "outputs": [
    {
     "data": {
      "text/plain": [
       "95.32213968417628"
      ]
     },
     "execution_count": 8,
     "metadata": {},
     "output_type": "execute_result"
    }
   ],
   "source": [
    "data.cost"
   ]
  },
  {
   "cell_type": "code",
   "execution_count": null,
   "id": "2e55187a",
   "metadata": {},
   "outputs": [],
   "source": []
  }
 ],
 "metadata": {
  "kernelspec": {
   "display_name": "schaeffler2025",
   "language": "python",
   "name": "python3"
  },
  "language_info": {
   "codemirror_mode": {
    "name": "ipython",
    "version": 3
   },
   "file_extension": ".py",
   "mimetype": "text/x-python",
   "name": "python",
   "nbconvert_exporter": "python",
   "pygments_lexer": "ipython3",
   "version": "3.12.3"
  }
 },
 "nbformat": 4,
 "nbformat_minor": 5
}
