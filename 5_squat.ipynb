{
 "cells": [
  {
   "cell_type": "code",
   "execution_count": 1,
   "id": "52d98ffb",
   "metadata": {},
   "outputs": [],
   "source": [
    "import crocoddyl as croc\n",
    "import pinocchio as pin\n",
    "from pinocchio.visualize import MeshcatVisualizer\n",
    "import meshcat\n",
    "\n",
    "import numpy as np\n",
    "import meshcat\n",
    "from os.path import join\n",
    "import time\n",
    "import matplotlib.pyplot as plt\n",
    "\n",
    "from utils.plotting import plot_control_sequence, plot_state_trajectory, plot_cost, plot_convergence\n",
    "\n"
   ]
  },
  {
   "cell_type": "code",
   "execution_count": 2,
   "id": "b0b0e1ca",
   "metadata": {},
   "outputs": [],
   "source": [
    "path_to_urdf = \"h1_2_description/\"\n",
    "urdf_name = \"h1_2_handless.urdf\"\n",
    "weights = {\n",
    "    \"x_reg\": 1e-3,  # State regularization weight\n",
    "    \"u_reg\": 1e-6,  # Control regularization weight\n",
    "    \"com_track\": 1e0,\n",
    "    \"x_reg_term\": 1e-2,  # Terminal state regularization weight\n",
    "}\n",
    "\n",
    "# Load the robot\n",
    "model, collision_model, visual_model = pin.buildModelsFromUrdf(\n",
    "    filename = join(path_to_urdf, urdf_name),\n",
    "    package_dirs = path_to_urdf,\n",
    "    root_joint = pin.JointModelFreeFlyer(),\n",
    ")\n",
    "model.armature = np.ones(model.nv) * 1e-3\n",
    "data = model.createData()\n",
    "\n",
    "nq, nv = model.nq, model.nv\n",
    "nx = nq + nv\n",
    "ndx = nv * 2\n",
    "right_foot_name = \"right_ankle_roll_link\"\n",
    "left_foot_name = \"left_ankle_roll_link\"\n",
    "right_foot_id = model.getFrameId(right_foot_name)\n",
    "left_foot_id = model.getFrameId(left_foot_name)\n",
    "\n",
    "# q0 = pin.neutral(model)\n",
    "q0 = np.array([ 0.        ,  0.        ,  0.9832    ,  0.        ,  0.        ,\n",
    "                0.        ,  1.        ,  0.        , -0.52359878,  0.        ,\n",
    "                1.04719755, -0.52359878,  0.        ,  0.        , -0.52359878,\n",
    "                0.        ,  1.04719755, -0.52359878,  0.        ,  0.        ,\n",
    "                0.        ,  0.        ,  0.        ,  0.        ,  0.        ,\n",
    "                0.        ,  0.        ,  0.        ])\n",
    "v0 = np.zeros(nv)\n",
    "\n",
    "\n",
    "# Get the first foot positions as references for the Baumegarte contact placement corrector\n",
    "pin.framesForwardKinematics(model, data, q0)\n",
    "oMleft_foot = data.oMf[left_foot_id]\n",
    "oMright_foot = data.oMf[right_foot_id]\n",
    "mean_height = (oMleft_foot.translation[2] + oMright_foot.translation[2]) / 2.0\n",
    "# For visualization\n",
    "# Update the initial robot position to have the feet on the ground\n",
    "q0[2] -= mean_height\n",
    "oMleft_foot.translation[2] -= mean_height\n",
    "oMright_foot.translation[2] -= mean_height"
   ]
  },
  {
   "cell_type": "code",
   "execution_count": 3,
   "id": "fe940d02",
   "metadata": {},
   "outputs": [
    {
     "name": "stdout",
     "output_type": "stream",
     "text": [
      "You can open the visualizer by visiting the following URL:\n",
      "http://127.0.0.1:7009/static/\n"
     ]
    },
    {
     "data": {
      "text/html": [
       "\n",
       "            <div style=\"height: 400px; width: 100%; overflow-x: auto; overflow-y: hidden; resize: both\">\n",
       "            <iframe src=\"http://127.0.0.1:7009/static/\" style=\"width: 100%; height: 100%; border: none\"></iframe>\n",
       "            </div>\n",
       "            "
      ],
      "text/plain": [
       "<IPython.core.display.HTML object>"
      ]
     },
     "execution_count": 3,
     "metadata": {},
     "output_type": "execute_result"
    }
   ],
   "source": [
    "# 1. Create an instance of the MeshcatVisualizer\n",
    "viz = MeshcatVisualizer(model, collision_model, visual_model)\n",
    "viz.initViewer(open=False)\n",
    "viz.loadViewerModel()\n",
    "viz.display(q0)\n",
    "viz.viewer.jupyter_cell()"
   ]
  },
  {
   "cell_type": "code",
   "execution_count": 4,
   "id": "d0661c68",
   "metadata": {},
   "outputs": [
    {
     "data": {
      "text/plain": [
       "[<matplotlib.lines.Line2D at 0x77649c9085f0>]"
      ]
     },
     "execution_count": 4,
     "metadata": {},
     "output_type": "execute_result"
    },
    {
     "data": {
      "image/png": "[encoded data removed]",
      "text/plain": [
       "<Figure size 640x480 with 1 Axes>"
      ]
     },
     "metadata": {},
     "output_type": "display_data"
    }
   ],
   "source": [
    "x0 = np.concatenate([q0, v0])  # Initial state\n",
    "N = 100\n",
    "dt = 0.02\n",
    "\n",
    "# Define the reference trajectory to follow\n",
    "pin.centerOfMass(model, data, q0, compute_subtree_coms=False)\n",
    "highest = data.com[0][2]\n",
    "lowest = data.com[0][2] * 0.6\n",
    "mean_com = (highest + lowest) / 2.0\n",
    "amplitude = (highest - lowest) / 2.0\n",
    "traj = [mean_com + amplitude * np.cos(2* np.pi * t / N) for t in range(N)]\n",
    "\n",
    "plt.figure()\n",
    "plt.plot(traj)"
   ]
  },
  {
   "cell_type": "code",
   "execution_count": 5,
   "id": "55e1fb08",
   "metadata": {},
   "outputs": [],
   "source": [
    "# Build running models\n",
    "running_models = []\n",
    "\n",
    "for t in range(N-1):\n",
    "    state = croc.StateMultibody(model)\n",
    "    actuation = croc.ActuationModelFloatingBase(state)\n",
    "\n",
    "    # Contacts\n",
    "    contacts = croc.ContactModelMultiple(state, actuation.nu)\n",
    "    for cid, placement in zip([right_foot_id, left_foot_id], [oMright_foot, oMleft_foot]):\n",
    "        contact = croc.ContactModel6D(\n",
    "            state,\n",
    "            cid,\n",
    "            placement,\n",
    "            pin.ReferenceFrame.LOCAL_WORLD_ALIGNED,\n",
    "            actuation.nu,\n",
    "            np.array([200.0, 20.0])\n",
    "        )\n",
    "        contacts.addContact(f\"{model.frames[cid]}_contact\", contact)\n",
    "    # Costs\n",
    "    costs = croc.CostModelSum(state, actuation.nu)\n",
    "    # State regularization\n",
    "    xRegResidual = croc.ResidualModelState(state, x0, actuation.nu)\n",
    "    xRegCost = croc.CostModelResidual(\n",
    "        state,\n",
    "        croc.ActivationModelWeightedQuad(np.concatenate((np.zeros(nv), np.ones(nv)))),\n",
    "        xRegResidual,\n",
    "    )\n",
    "    if weights[\"x_reg\"] > 0.0:\n",
    "        costs.addCost(\"xReg\", xRegCost, weights[\"x_reg\"])\n",
    "    # Control regularization\n",
    "    uRegResidual = croc.ResidualModelControl(state, actuation.nu)\n",
    "    uRegCost = croc.CostModelResidual(\n",
    "        state,\n",
    "        croc.ActivationModelWeightedQuad(np.ones(actuation.nu)),\n",
    "        uRegResidual,\n",
    "    )\n",
    "    if weights[\"u_reg\"] > 0.0:\n",
    "        costs.addCost(\"uReg\", uRegCost, weights[\"u_reg\"])\n",
    "    # Reference trajectory tracking\n",
    "    comTrackResidual = croc.ResidualModelCoMPosition(state, np.array([0, 0, traj[t]]), actuation.nu)\n",
    "    comTrackCost = croc.CostModelResidual(\n",
    "        state,\n",
    "        croc.ActivationModelWeightedQuad(np.array([0, 0, 1.0])),\n",
    "        comTrackResidual,\n",
    "    )\n",
    "    if weights[\"com_track\"] > 0.0:\n",
    "        costs.addCost(\"xRef\", comTrackCost, weights[\"com_track\"])\n",
    "\n",
    "    # Action model\n",
    "    am = croc.IntegratedActionModelEuler(\n",
    "        croc.DifferentialActionModelContactFwdDynamics(\n",
    "            state,\n",
    "            actuation,\n",
    "            contacts,\n",
    "            costs,\n",
    "        ),\n",
    "        dt\n",
    "    )\n",
    "    running_models.append(am)\n",
    "\n",
    "# Build the terminal model\n",
    "contacts = croc.ContactModelMultiple(state, actuation.nu)\n",
    "for cid in [right_foot_id, left_foot_id]:\n",
    "    contact = croc.ContactModel6D(\n",
    "        state,\n",
    "        cid,\n",
    "        pin.SE3.Identity(),\n",
    "        pin.ReferenceFrame.LOCAL_WORLD_ALIGNED,\n",
    "        actuation.nu,\n",
    "        np.array([0.0, 10.0])\n",
    "    )\n",
    "    contacts.addContact(f\"{model.frames[cid]}_contact\", contact)\n",
    "# Costs\n",
    "costs = croc.CostModelSum(state, actuation.nu)\n",
    "# State regularization\n",
    "xRegResidual = croc.ResidualModelState(state, x0, actuation.nu)\n",
    "xRegCost = croc.CostModelResidual(\n",
    "    state,\n",
    "    croc.ActivationModelWeightedQuad(np.ones(ndx)),\n",
    "    xRegResidual,\n",
    ")\n",
    "if weights[\"x_reg_term\"] > 0.0:\n",
    "    costs.addCost(\"xReg\", xRegCost, weights[\"x_reg_term\"])\n",
    "# Action model\n",
    "dam = croc.DifferentialActionModelContactFwdDynamics(\n",
    "    state,\n",
    "    actuation,\n",
    "    contacts,\n",
    "    costs,\n",
    ")\n",
    "terminal_model = croc.IntegratedActionModelEuler(\n",
    "    dam,\n",
    "    dt\n",
    ")"
   ]
  },
  {
   "cell_type": "code",
   "execution_count": 6,
   "id": "42cdbd01",
   "metadata": {},
   "outputs": [
    {
     "name": "stdout",
     "output_type": "stream",
     "text": [
      "Starting DDP optimization...\n",
      "iter    cost       merit      stop      |grad|      preg       dreg      step   ||ffeas||  ||gfeas||  ||hfeas||   dV-exp       dV      dPhi-exp     dPhi\n",
      "   0  1.644e-02  0.000e+00  2.611e-02  3.204e-02  1.000e-09  1.000e-09  0.5000  9.657e-01  0.000e+00  0.000e+00  1.854e-02  2.208e-02  0.000e+00  0.000e+00\n",
      "   1  1.381e-02  0.000e+00  7.238e-04  4.203e-03  1.000e-09  1.000e-09  0.5000  4.829e-01  0.000e+00  0.000e+00  2.107e-03  2.626e-03  0.000e+00  0.000e+00\n",
      "   2  1.611e-02  0.000e+00  2.285e-03  3.337e-04  1.000e-09  1.000e-09  1.0000  2.414e-01  0.000e+00  0.000e+00 -2.285e-03 -2.300e-03  0.000e+00  0.000e+00\n",
      "   3  1.597e-02  0.000e+00  1.150e-04  2.301e-04  1.000e-09  1.000e-09  1.0000  0.000e+00  0.000e+00  0.000e+00  1.150e-04  1.434e-04  0.000e+00  0.000e+00\n",
      "   4  1.595e-02  0.000e+00  1.189e-05  2.378e-05  1.000e-09  1.000e-09  1.0000  0.000e+00  0.000e+00  0.000e+00  1.189e-05  1.955e-05  0.000e+00  0.000e+00\n",
      "   5  1.594e-02  0.000e+00  5.962e-06  1.192e-05  1.000e-09  1.000e-09  1.0000  0.000e+00  0.000e+00  0.000e+00  5.962e-06  1.078e-05  0.000e+00  0.000e+00\n",
      "   6  1.593e-02  0.000e+00  3.976e-06  7.952e-06  1.000e-09  1.000e-09  1.0000  0.000e+00  0.000e+00  0.000e+00  3.976e-06  7.223e-06  0.000e+00  0.000e+00\n",
      "   7  1.593e-02  0.000e+00  2.665e-06  5.331e-06  1.000e-09  1.000e-09  1.0000  0.000e+00  0.000e+00  0.000e+00  2.665e-06  4.832e-06  0.000e+00  0.000e+00\n",
      "   8  1.592e-02  0.000e+00  1.765e-06  3.530e-06  1.000e-09  1.000e-09  1.0000  0.000e+00  0.000e+00  0.000e+00  1.765e-06  3.192e-06  0.000e+00  0.000e+00\n",
      "   9  1.592e-02  0.000e+00  1.155e-06  2.311e-06  1.000e-09  1.000e-09  1.0000  0.000e+00  0.000e+00  0.000e+00  1.155e-06  2.085e-06  0.000e+00  0.000e+00\n",
      "iter    cost       merit      stop      |grad|      preg       dreg      step   ||ffeas||  ||gfeas||  ||hfeas||   dV-exp       dV      dPhi-exp     dPhi\n",
      "  10  1.592e-02  0.000e+00  7.486e-07  1.497e-06  1.000e-09  1.000e-09  1.0000  0.000e+00  0.000e+00  0.000e+00  7.486e-07  1.349e-06  0.000e+00  0.000e+00\n"
     ]
    },
    {
     "data": {
      "text/plain": [
       "True"
      ]
     },
     "execution_count": 6,
     "metadata": {},
     "output_type": "execute_result"
    }
   ],
   "source": [
    "# Define the shooting problem\n",
    "problem = croc.ShootingProblem(\n",
    "    x0=x0,\n",
    "    runningModels=running_models,\n",
    "    terminalModel=terminal_model,\n",
    ")\n",
    "ddp = croc.SolverFDDP(problem)\n",
    "ddp.th_stop = 1e-6\n",
    "ddp.setCallbacks([croc.CallbackLogger(), croc.CallbackVerbose()])\n",
    "\n",
    "xs_init = [x0] * N\n",
    "us_init = [np.zeros(model.nv - 6)] * (N - 1)\n",
    "#xs_init = problem.rollout(us_init)\n",
    "\n",
    "print(\"Starting DDP optimization...\")\n",
    "ddp.solve(xs_init, us_init, 100)\n",
    "#ddp.solve()"
   ]
  },
  {
   "cell_type": "code",
   "execution_count": 7,
   "id": "a9fd6889",
   "metadata": {},
   "outputs": [
    {
     "data": {
      "text/html": [
       "\n",
       "            <div style=\"height: 400px; width: 100%; overflow-x: auto; overflow-y: hidden; resize: both\">\n",
       "            <iframe src=\"http://127.0.0.1:7009/static/\" style=\"width: 100%; height: 100%; border: none\"></iframe>\n",
       "            </div>\n",
       "            "
      ],
      "text/plain": [
       "<IPython.core.display.HTML object>"
      ]
     },
     "execution_count": 7,
     "metadata": {},
     "output_type": "execute_result"
    }
   ],
   "source": [
    "viz.display(q0)\n",
    "viz.viewer.jupyter_cell()"
   ]
  },
  {
   "cell_type": "code",
   "execution_count": 8,
   "id": "f68d42a0",
   "metadata": {},
   "outputs": [],
   "source": [
    "xs_sol = np.array(ddp.xs)\n",
    "us_sol = np.array(ddp.us)\n",
    "\n",
    "# Visualize the solution\n",
    "for i in range(len(xs_sol)):\n",
    "    viz.display(xs_sol[i, :nq])\n",
    "    time.sleep(dt)\n"
   ]
  },
  {
   "cell_type": "code",
   "execution_count": 9,
   "id": "e803466c",
   "metadata": {},
   "outputs": [
    {
     "data": {
      "image/png": "[encoded data removed]",
      "text/plain": [
       "<Figure size 640x800 with 5 Axes>"
      ]
     },
     "metadata": {},
     "output_type": "display_data"
    }
   ],
   "source": [
    "log = ddp.getCallbacks()[0]\n",
    "\n",
    "croc.plotConvergence(\n",
    "    log.costs,\n",
    "    log.pregs,\n",
    "    log.dregs,\n",
    "    log.grads,\n",
    "    log.stops,\n",
    "    log.steps,\n",
    "    figIndex=2,\n",
    "    show=False,\n",
    ")"
   ]
  },
  {
   "cell_type": "markdown",
   "id": "4d847eb7",
   "metadata": {},
   "source": [
    "## MPPI"
   ]
  },
  {
   "cell_type": "code",
   "execution_count": null,
   "id": "4e57cb5a",
   "metadata": {},
   "outputs": [],
   "source": []
  },
  {
   "cell_type": "code",
   "execution_count": 20,
   "id": "c8b75455",
   "metadata": {},
   "outputs": [
    {
     "name": "stdout",
     "output_type": "stream",
     "text": [
      "Running MPPI solver...\n",
      "Iteration 1/50, Min Cost: 0.1190, Mean Cost: 0.6351, DDP Cost: 0.1190, DDP converged: False\n",
      "Iteration 2/50, Min Cost: 0.1155, Mean Cost: 0.6195, DDP Cost: 0.1155, DDP converged: False\n",
      "Iteration 3/50, Min Cost: 0.1121, Mean Cost: 0.6045, DDP Cost: 0.1121, DDP converged: False\n",
      "Iteration 4/50, Min Cost: 0.1086, Mean Cost: 0.5899, DDP Cost: 0.1086, DDP converged: False\n",
      "Iteration 5/50, Min Cost: 0.1052, Mean Cost: 0.5758, DDP Cost: 0.1052, DDP converged: False\n",
      "Iteration 6/50, Min Cost: 0.1019, Mean Cost: 0.5621, DDP Cost: 0.1019, DDP converged: False\n",
      "Iteration 7/50, Min Cost: 0.0986, Mean Cost: 0.5488, DDP Cost: 0.0986, DDP converged: False\n",
      "Iteration 8/50, Min Cost: 0.0953, Mean Cost: 0.5360, DDP Cost: 0.0953, DDP converged: False\n",
      "Iteration 9/50, Min Cost: 0.0921, Mean Cost: 0.5235, DDP Cost: 0.0921, DDP converged: False\n",
      "Iteration 10/50, Min Cost: 0.0890, Mean Cost: 0.5114, DDP Cost: 0.0890, DDP converged: False\n",
      "Iteration 11/50, Min Cost: 0.0860, Mean Cost: 0.4996, DDP Cost: 0.0860, DDP converged: False\n",
      "Iteration 12/50, Min Cost: 0.0830, Mean Cost: 0.4882, DDP Cost: 0.0830, DDP converged: False\n",
      "Iteration 13/50, Min Cost: 0.0801, Mean Cost: 0.4771, DDP Cost: 0.0801, DDP converged: False\n",
      "Iteration 14/50, Min Cost: 0.0773, Mean Cost: 0.4663, DDP Cost: 0.0773, DDP converged: False\n",
      "Iteration 15/50, Min Cost: 0.0746, Mean Cost: 0.4558, DDP Cost: 0.0746, DDP converged: False\n",
      "Iteration 16/50, Min Cost: 0.0720, Mean Cost: 0.4456, DDP Cost: 0.0720, DDP converged: False\n",
      "Iteration 17/50, Min Cost: 0.0694, Mean Cost: 0.4357, DDP Cost: 0.0694, DDP converged: False\n",
      "Iteration 18/50, Min Cost: 0.0669, Mean Cost: 0.4260, DDP Cost: 0.0669, DDP converged: False\n",
      "Iteration 19/50, Min Cost: 0.0645, Mean Cost: 0.4166, DDP Cost: 0.0645, DDP converged: False\n",
      "Iteration 20/50, Min Cost: 0.0622, Mean Cost: 0.4075, DDP Cost: 0.0622, DDP converged: False\n",
      "Iteration 21/50, Min Cost: 0.0599, Mean Cost: 0.3986, DDP Cost: 0.0599, DDP converged: False\n",
      "Iteration 22/50, Min Cost: 0.0578, Mean Cost: 0.3899, DDP Cost: 0.0578, DDP converged: False\n",
      "Iteration 23/50, Min Cost: 0.0556, Mean Cost: 0.3814, DDP Cost: 0.0556, DDP converged: False\n",
      "Iteration 24/50, Min Cost: 0.0536, Mean Cost: 0.3732, DDP Cost: 0.0536, DDP converged: False\n",
      "Iteration 25/50, Min Cost: 0.0516, Mean Cost: 0.3652, DDP Cost: 0.0516, DDP converged: False\n",
      "Iteration 26/50, Min Cost: 0.0497, Mean Cost: 0.3573, DDP Cost: 0.0497, DDP converged: False\n",
      "Iteration 27/50, Min Cost: 0.0479, Mean Cost: 0.3497, DDP Cost: 0.0479, DDP converged: False\n",
      "Iteration 28/50, Min Cost: 0.0461, Mean Cost: 0.3423, DDP Cost: 0.0461, DDP converged: False\n",
      "Iteration 29/50, Min Cost: 0.0444, Mean Cost: 0.3350, DDP Cost: 0.0444, DDP converged: False\n",
      "Iteration 30/50, Min Cost: 0.0428, Mean Cost: 0.3279, DDP Cost: 0.0428, DDP converged: False\n",
      "Iteration 31/50, Min Cost: 0.0412, Mean Cost: 0.3210, DDP Cost: 0.0412, DDP converged: False\n",
      "Iteration 32/50, Min Cost: 0.0397, Mean Cost: 0.3143, DDP Cost: 0.0397, DDP converged: False\n",
      "Iteration 33/50, Min Cost: 0.0382, Mean Cost: 0.3077, DDP Cost: 0.0382, DDP converged: False\n",
      "Iteration 34/50, Min Cost: 0.0368, Mean Cost: 0.3013, DDP Cost: 0.0368, DDP converged: False\n",
      "Iteration 35/50, Min Cost: 0.0354, Mean Cost: 0.2950, DDP Cost: 0.0354, DDP converged: False\n",
      "Iteration 36/50, Min Cost: 0.0341, Mean Cost: 0.2889, DDP Cost: 0.0341, DDP converged: False\n",
      "Iteration 37/50, Min Cost: 0.0328, Mean Cost: 0.2829, DDP Cost: 0.0328, DDP converged: False\n",
      "Iteration 38/50, Min Cost: 0.0316, Mean Cost: 0.2771, DDP Cost: 0.0316, DDP converged: False\n",
      "Iteration 39/50, Min Cost: 0.0304, Mean Cost: 0.2714, DDP Cost: 0.0304, DDP converged: False\n",
      "Iteration 40/50, Min Cost: 0.0293, Mean Cost: 0.2658, DDP Cost: 0.0293, DDP converged: False\n",
      "Iteration 41/50, Min Cost: 0.0282, Mean Cost: 0.2604, DDP Cost: 0.0282, DDP converged: False\n",
      "Iteration 42/50, Min Cost: 0.0271, Mean Cost: 0.2551, DDP Cost: 0.0271, DDP converged: False\n",
      "Iteration 43/50, Min Cost: 0.0261, Mean Cost: 0.2499, DDP Cost: 0.0261, DDP converged: False\n",
      "Iteration 44/50, Min Cost: 0.0251, Mean Cost: 0.2448, DDP Cost: 0.0251, DDP converged: False\n",
      "Iteration 45/50, Min Cost: 0.0242, Mean Cost: 0.2398, DDP Cost: 0.0242, DDP converged: False\n",
      "Iteration 46/50, Min Cost: 0.0233, Mean Cost: 0.2350, DDP Cost: 0.0233, DDP converged: False\n",
      "Iteration 47/50, Min Cost: 0.0224, Mean Cost: 0.2302, DDP Cost: 0.0224, DDP converged: False\n",
      "Iteration 48/50, Min Cost: 0.0216, Mean Cost: 0.2256, DDP Cost: 0.0216, DDP converged: False\n",
      "Iteration 49/50, Min Cost: 0.0208, Mean Cost: 0.2211, DDP Cost: 0.0208, DDP converged: False\n",
      "Iteration 50/50, Min Cost: 0.0200, Mean Cost: 0.2166, DDP Cost: 0.0200, DDP converged: False\n",
      "\n",
      "Rolling out trajectory with optimal controls...\n",
      "Final cost of optimal trajectory: 0.2142\n"
     ]
    }
   ],
   "source": [
    "# MPPI parameters\n",
    "from MPPI.mppi import MPPI, MPPILogger\n",
    "from MPPI.mppi_ddp import MPPIDDP\n",
    "\n",
    "horizon = 10 # 50 # 10       # Number of time steps in the prediction horizon\n",
    "num_samples = 100    # Number of control samples\n",
    "lambda_param = 1    # Temperature parameter\n",
    "noise_std = np.full(21, 0.001)\n",
    "n_iter = 50\n",
    "# Logging\n",
    "logger_mppi_ddp = MPPILogger(enable_logging=True, n_log=5)\n",
    "problem = croc.ShootingProblem(\n",
    "    x0=x0,\n",
    "    runningModels=running_models[:horizon],\n",
    "    terminalModel=terminal_model,\n",
    ")\n",
    "\n",
    "# Initial state for the unicycle: [x, y, yaw]\n",
    "# x0 = robot_model.x0\n",
    "\n",
    "print(\"Running MPPI solver...\")\n",
    "mppi_ddp_solver = MPPIDDP(running_models[0], terminal_model, horizon, num_samples, lambda_param, noise_std,\n",
    "                   param_exploration=0.0, n_filt=1, logger=logger_mppi_ddp,\n",
    "                   ddp_problem = problem)\n",
    "\n",
    "u_opt_mppi_ddp = mppi_ddp_solver.solve(x0, n_iter)\n",
    "# u_opt_mppi_ddp = mppi_ddp_solver.solve_receding_horizon(x0, 200)\n",
    "\n",
    "print(\"\\nRolling out trajectory with optimal controls...\")\n",
    "x_opt_mppi, mppi_final_cost = mppi_ddp_solver.rollout_trajectory(x0, u_opt_mppi_ddp)\n",
    "# Store the final optimized nominal control sequence in the logger\n",
    "logger_mppi_ddp.set_final_controls(u_opt_mppi_ddp)\n",
    "logger_mppi_ddp.set_final_state(x_opt_mppi)\n",
    "\n",
    "print(f\"Final cost of optimal trajectory: {mppi_final_cost:.4f}\")"
   ]
  },
  {
   "cell_type": "code",
   "execution_count": 18,
   "id": "7a9d4deb",
   "metadata": {},
   "outputs": [
    {
     "data": {
      "text/html": [
       "\n",
       "            <div style=\"height: 400px; width: 100%; overflow-x: auto; overflow-y: hidden; resize: both\">\n",
       "            <iframe src=\"http://127.0.0.1:7009/static/\" style=\"width: 100%; height: 100%; border: none\"></iframe>\n",
       "            </div>\n",
       "            "
      ],
      "text/plain": [
       "<IPython.core.display.HTML object>"
      ]
     },
     "execution_count": 18,
     "metadata": {},
     "output_type": "execute_result"
    }
   ],
   "source": [
    "viz.display(q0)\n",
    "viz.viewer.jupyter_cell()"
   ]
  },
  {
   "cell_type": "code",
   "execution_count": 19,
   "id": "3c42fd5c",
   "metadata": {},
   "outputs": [
    {
     "name": "stdout",
     "output_type": "stream",
     "text": [
      "0.640331359161644\n"
     ]
    }
   ],
   "source": [
    "nu = 21\n",
    "u_random = np.random.multivariate_normal(\n",
    "                np.zeros(nu),\n",
    "                np.diag(noise_std**2),\n",
    "                size=(10,)\n",
    "            )\n",
    "x, cost = mppi_solver.rollout_trajectory(x0, u_random)\n",
    "print(cost)"
   ]
  },
  {
   "cell_type": "code",
   "execution_count": 20,
   "id": "e297f78f",
   "metadata": {},
   "outputs": [],
   "source": [
    "# Visualize the solution\n",
    "for i in range(len(x)):\n",
    "    viz.display(x[i, :nq])\n",
    "    time.sleep(dt)\n"
   ]
  },
  {
   "cell_type": "code",
   "execution_count": 21,
   "id": "365eab6f",
   "metadata": {},
   "outputs": [
    {
     "data": {
      "text/plain": [
       "(0.0, 10.0)"
      ]
     },
     "execution_count": 21,
     "metadata": {},
     "output_type": "execute_result"
    },
    {
     "data": {
      "image/png": "[encoded data removed]",
      "text/plain": [
       "<Figure size 600x300 with 1 Axes>"
      ]
     },
     "metadata": {},
     "output_type": "display_data"
    }
   ],
   "source": [
    "# Create a figure and a single subplot for the cost histories\n",
    "fig, ax = plt.subplots(1, 1, figsize=(6, 3)) # [2]\n",
    "\n",
    "# Plot each cost history on the same subplot\n",
    "plot_cost(logger_mppi_ddp.total_cost_hist, ax=ax, color=\"green\",  label=\"MPPI\") \n",
    "plot_cost(logger_mppi_ddp.total_cost_hist, ax=ax, color=\"blue\", label=\"MPPI-DDP(1)\")\n",
    "plot_cost(ddp_costs, ax=ax, color=\"purple\", label=\"DDP\")\n",
    "ax.legend()\n",
    "ax.set_ylim(10, 50)"
   ]
  },
  {
   "cell_type": "code",
   "execution_count": null,
   "id": "7ac3ba40",
   "metadata": {},
   "outputs": [],
   "source": []
  }
 ],
 "metadata": {
  "kernelspec": {
   "display_name": "ddp-vs-mppi",
   "language": "python",
   "name": "python3"
  },
  "language_info": {
   "codemirror_mode": {
    "name": "ipython",
    "version": 3
   },
   "file_extension": ".py",
   "mimetype": "text/x-python",
   "name": "python",
   "nbconvert_exporter": "python",
   "pygments_lexer": "ipython3",
   "version": "3.12.3"
  }
 },
 "nbformat": 4,
 "nbformat_minor": 5
}
