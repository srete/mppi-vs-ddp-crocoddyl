{
 "cells": [
  {
   "cell_type": "code",
   "execution_count": 4,
   "id": "4f1588a1",
   "metadata": {},
   "outputs": [
    {
     "name": "stdout",
     "output_type": "stream",
     "text": [
      "b1\n",
      "bravo7_gripper\n",
      "bravo7_no_ee\n",
      "falcon_bravo7_no_ee\n",
      "falcon_bravo7_gripper\n",
      "bluevolta_bravo7_no_ee\n",
      "bluevolta_bravo7_gripper\n",
      "go1\n",
      "go2\n",
      "a1\n",
      "z1\n",
      "b1_z1\n",
      "anymal\n",
      "anymal_c\n",
      "anymal_kinova\n",
      "asr_twodof\n",
      "baxter\n",
      "cassie\n",
      "double_pendulum\n",
      "double_pendulum_continuous\n",
      "double_pendulum_simple\n",
      "hector\n",
      "hextilt\n",
      "hyq\n",
      "icub\n",
      "icub_reduced\n",
      "iris\n",
      "kinova\n",
      "laikago\n",
      "panda\n",
      "panda_collision\n",
      "alex_nub_hands\n",
      "alex_psyonic_hands\n",
      "alex_sake_hands\n",
      "allegro_right_hand\n",
      "allegro_left_hand\n",
      "quadruped\n",
      "romeo\n",
      "simple_humanoid\n",
      "simple_humanoid_classical\n",
      "bolt\n",
      "borinot\n",
      "solo8\n",
      "solo12\n",
      "finger_edu\n",
      "pr2\n",
      "talos\n",
      "talos_box\n",
      "talos_arm\n",
      "talos_legs\n",
      "talos_full\n",
      "talos_full_box\n",
      "tiago\n",
      "tiago_dual\n",
      "tiago_no_hand\n",
      "tiago_pro\n",
      "ur3\n",
      "ur3_gripper\n",
      "ur3_limited\n",
      "ur5\n",
      "ur5_gripper\n",
      "ur5_limited\n",
      "ur10\n",
      "ur10_limited\n"
     ]
    }
   ],
   "source": [
    "from example_robot_data.robots_loader import ROBOTS\n",
    "import example_robot_data as robex\n",
    "from schaeffler2025.meshcat_viewer_wrapper import MeshcatVisualizer\n",
    "\n",
    "\n",
    "for k in ROBOTS.keys():\n",
    "    print(k)"
   ]
  },
  {
   "cell_type": "code",
   "execution_count": 8,
   "id": "143e8c1b",
   "metadata": {},
   "outputs": [
    {
     "name": "stdout",
     "output_type": "stream",
     "text": [
      "You can open the visualizer by visiting the following URL:\n",
      "http://127.0.0.1:7005/static/\n"
     ]
    }
   ],
   "source": [
    "robot = robex.load('go2')\n",
    "robot_model = robot.model\n",
    "\n",
    "viz = MeshcatVisualizer(robot)\n",
    "viz.display(robot.q0)"
   ]
  },
  {
   "cell_type": "code",
   "execution_count": 9,
   "id": "5110d1ff",
   "metadata": {},
   "outputs": [
    {
     "data": {
      "text/html": [
       "\n",
       "            <div style=\"height: 400px; width: 100%; overflow-x: auto; overflow-y: hidden; resize: both\">\n",
       "            <iframe src=\"http://127.0.0.1:7005/static/\" style=\"width: 100%; height: 100%; border: none\"></iframe>\n",
       "            </div>\n",
       "            "
      ],
      "text/plain": [
       "<IPython.core.display.HTML object>"
      ]
     },
     "execution_count": 9,
     "metadata": {},
     "output_type": "execute_result"
    }
   ],
   "source": [
    "viz.viewer.jupyter_cell()"
   ]
  },
  {
   "cell_type": "code",
   "execution_count": 11,
   "id": "3c57fc56",
   "metadata": {},
   "outputs": [
    {
     "name": "stdout",
     "output_type": "stream",
     "text": [
      "Tau: [ 3.46037686e+00  3.67115251e+01  1.53461053e+00  4.59613841e-01\n",
      " -5.45476487e-01 -2.32240915e-02]\n",
      "∂tau/∂q shape: (6, 6)\n",
      "∂tau/∂v shape: (6, 6)\n",
      "∂tau/∂a shape: (6, 6)\n"
     ]
    }
   ],
   "source": [
    "import example_robot_data as robex\n",
    "import pinocchio as pin\n",
    "import numpy as np\n",
    "\n",
    "# 1. Load robot model\n",
    "robot = robex.load(\"ur5\")   # swap with another model if you like\n",
    "model = robot.model\n",
    "data = model.createData()\n",
    "\n",
    "# 2. Get DOF sizes\n",
    "nq = model.nq\n",
    "nv = model.nv\n",
    "\n",
    "# 3. Sample random state\n",
    "q = pin.randomConfiguration(model)\n",
    "v = np.random.randn(nv)\n",
    "a = np.random.randn(nv)\n",
    "\n",
    "# 4. Compute inverse dynamics\n",
    "tau = pin.rnea(model, data, q, v, a)\n",
    "\n",
    "# 5. Compute analytical derivatives (stored in data)\n",
    "pin.computeRNEADerivatives(model, data, q, v, a)\n",
    "\n",
    "# 6. Access results\n",
    "print(\"Tau:\", tau)\n",
    "print(\"∂tau/∂q shape:\", data.dtau_dq.shape)\n",
    "print(\"∂tau/∂v shape:\", data.dtau_dv.shape)\n",
    "print(\"∂tau/∂a shape:\", data.M.shape)  # Mass matrix relates to accel derivative\n"
   ]
  }
 ],
 "metadata": {
  "kernelspec": {
   "display_name": "ddp-vs-mppi",
   "language": "python",
   "name": "python3"
  },
  "language_info": {
   "codemirror_mode": {
    "name": "ipython",
    "version": 3
   },
   "file_extension": ".py",
   "mimetype": "text/x-python",
   "name": "python",
   "nbconvert_exporter": "python",
   "pygments_lexer": "ipython3",
   "version": "3.12.3"
  }
 },
 "nbformat": 4,
 "nbformat_minor": 5
}
